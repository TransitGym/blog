{
 "cells": [
  {
   "cell_type": "markdown",
   "metadata": {
    "id": "ejRij-HpdRLW"
   },
   "source": [
    "#  Approximating parameters of multivariate normal distribution (MVN)"
   ]
  },
  {
   "cell_type": "markdown",
   "metadata": {
    "id": "d1zGdTXrdBQ_"
   },
   "source": [
    "Suppose we are given a set of high-dimension data sampled from a multivariate normal distribution like: $X \\sim MVN(\\theta, \\Sigma).$ The goal is to derive the parameters (i.e., $\\theta, \\Sigma$).\n",
    "\n",
    "There are multiple solutions to achieve this goal either from the persective of frequentist or bayesian. This blog will try to illustrate one of a bayesian solution, i.e., Maximum a posterior estimation (MAP). It can be also regared as my personal note learning bayesian solution for data mining. \n",
    "Welcome to correct me if there are any mistakes. I will appreciate any suggestions!\n",
    "Now let's begin the dummy note! \n",
    "\n",
    "\n",
    "\n"
   ]
  },
  {
   "cell_type": "markdown",
   "metadata": {
    "id": "ltqi539YQhHy"
   },
   "source": [
    "##  Preliminary\n",
    "\n",
    "What we have now is the form of the target distribution, the MVN\n",
    "\n",
    "$X \\sim MVN(\\theta, \\Sigma)$\n",
    "\n",
    "Given the d-dimension data $X \\in \\mathcal{R}^{d}$, we can have the likelihood:\n",
    "\n",
    "$P(X \\mid θ, Σ)=(2\\pi)^{-d/2} \\det(Σ)^{-1/2} \\exp\\{-\\frac{1}{2}(X-\\theta)^{T}Σ^{-1}(X-\\theta) \\}$\n",
    "\n",
    "Since the posterior of the parameters is: posterior$ \\propto$ likelihood * prior, we should specify the prior for $\\theta, \\Sigma$. The conjugate prioirs are adopted as follows:\n",
    "\n",
    "$\\theta \\sim MVN(\\mu,Ω)$\n",
    "\n",
    "$Σ \\sim \\mathcal{W}^{-1} (\\mathcal{v}_{0}, \\Phi_{0}^{-1})$.\n",
    "\n",
    "Where $\\mathcal{W}^{-1}$ denotes inverse Wishart distribution (it is a routine prior distribution to place prior on the convariance matrix, just take it easy at this time). \n",
    "\n",
    "\n",
    "Let's begin the derivation based on the above definitions:\n",
    "\n",
    "We first present the detailed expression of likelihood since it is related to the posterior of $θ$ and $Σ$. Suppose the size of data is $n$, then:\n",
    "\n",
    "$P(X \\mid θ,Σ)=(2\\pi)^{\\frac{1}{2}nd} \\det(Σ)^{\\frac{1}{2}}\\exp\\{\\sum_{i=1}^{n}\\frac{1}{2}(x_i-\\theta)^{T}\\Sigma^{-1}(x_i-\\theta)\\}$.$~~~~~~~~~~~~$ (1)\n",
    "\n",
    "Or more clearly:\n",
    "\n",
    "  $P(X \\mid θ,Σ)= (2\\pi)^{\\frac{1}{2}dn} \\det(Σ)^{\\frac{n}{2}}\\exp\\{\\frac{1}{2}[\\sum_{i=1}^{n}x_{i}^{T}\\Sigma^{-1}x-2\\sum_{i=1}^{n}\\theta^{T}\\Sigma^{-1}x_{i}+\\sum_{i=1}^{n}\\theta^{T}\\Sigma^{-1}θ]\\}$. $~~~~~~~~~~~~$ (2)\n",
    "\n",
    "\n",
    "\n",
    "\n",
    "\n"
   ]
  },
  {
   "cell_type": "markdown",
   "metadata": {
    "id": "rjsgYTgwQnUE"
   },
   "source": [
    "\n",
    "##  Posterior of $θ$\n",
    "\n",
    " Simplify the prior as \n",
    " \n",
    " $P(\\theta) ∝ \\exp\\{-\\frac{1}{2}(θ-\\mu)^{T}\\Omega^{-1}(θ-\\mu)\\}$\n",
    " \n",
    "  $=\\exp\\{-\\frac{1}{2}[\\theta^{T}Ω^{-1}\\theta - 2\\theta^{T}Ω^{-1}\\mu + \\mu^{T}Ω^{-1}\\mu] \\}$.\n",
    "\n",
    "  Since we are considering the posterior distribution for the $\\theta$, any items that do not include $\\theta$ can be removed. Therefore, we have\n",
    "\n",
    " $P(\\theta) ∝ \\exp\\{-\\frac{1}{2}[\\theta^{T}Ω^{-1}\\theta - 2\\theta^{T}Ω^{-1}\\mu]\\}$. \n",
    "\n",
    " Let $A_0=Ω^{-1}$ and $b_0 = Ω^{-1}\\mu$. This is beneficial to simplify the derivation. So just follow it:)\n",
    "\n",
    " OK now we have a neat expression of prior of $\\theta$:\n",
    "\n",
    " $P(\\theta) ∝ \\exp\\{-\\frac{1}{2}[\\theta^{T}A_{0}\\theta - 2\\theta^{T}b_0]\\}$. $~~~~~~~~~~~~$ (3)\n",
    "\n",
    "  Now with the likelihood we can derive the posterior. Notably we can remove the item not related to $\\theta$. Therefore Eq (1) can be simplifed as:\n",
    "\n",
    " $P(X \\mid Σ,\\theta)∝ \\exp\\{-\\frac{1}{2}[-2\\theta^{T}\\Sigma^{-1}n\\overline{x}+n\\theta^{T}\\Sigma^{-1}\\theta]\\}$\n",
    "\n",
    " $= \\exp\\{-\\frac{1}{2}[\\theta^{T}A_{1}θ-2\\theta^{T}b_1]\\}$, $~~~~~~~~~~~~$ (4)\n",
    "\n",
    " where $\\overline{x}:=(\\frac{1}{n}\\sum_{i=1}^{n}x_{i1},...,\\frac{1}{n}\\sum_{i=1}^{n}x_{id})^{T}$; $A_1 = n\\Sigma^{-1}; b_1 = \\Sigma^{-1}n\\overline{x}$\n",
    "\n",
    " Then we get:\n",
    "\n",
    " $P(\\theta \\mid X, Σ) ∝ P(\\theta)P(X \\mid \\Sigma θ)$\n",
    "\n",
    " $=\\exp\\{-\\frac{1}{2}[θ^{T}(A_0+A_1)\\theta-2\\theta_{T}(b_0+b_1)]\\}$\n",
    " \n",
    "  $=\\exp\\{-\\frac{1}{2}[θ^{T}A_n\\theta-2\\theta_{T}b_n]\\}$. $~~~~~~~~~~~~$ (5)\n",
    "\n",
    "  Where $A_n=A_0+A_1=nΣ^{-1}+Ω^{-1},b_n=b_0+b_1=nΣ^{-1}+Ω^{-1}$.\n",
    "\n",
    "  Since the prior is conjugate to the posterior, we can furhter derive:\n",
    "\n",
    "  $P(θ\\mid Σ,X) = MVN(A_{n}^{-1}b_n, A_{n}^{-1})$. $~~~~~~~~~~~~$ (6)"
   ]
  },
  {
   "cell_type": "markdown",
   "metadata": {
    "id": "oOHeLMoNyVSB"
   },
   "source": [
    "## Posterior of $Σ$\n",
    "\n",
    "Now we begin to address the posterior of $Σ$. The basic procedure is similar: Just simplify likelihood, then multiply likelihood with prior, do some mathematical simplification and we will get it:\n",
    "\n",
    "The prior of $\\Sigma$ is more scary but just regard it as a tool, you don't need to figure out its origin in this blog:\n",
    "\n",
    "$P(\\Sigma)=\\det(\\Sigma)^{-(\\mathcal{v}_0+d+1)/2}\\exp\\{-tr(\\Phi_0Σ^{-1})/2\\}$$~~~~~~~~~~~~$ (7)\n",
    "\n",
    "Given this prior, the likelihood can not be simplified as what we did in $\\theta$ since no item is free of $Σ$... But we should do some transformation to allow likelihood to bette match the prior. Eq(1) can be transformed as follows:\n",
    "\n",
    "$P(X\\mid θ,Σ) ∝ \\det(\\Sigma)^{-n/2}\\exp\\{\\sum_{i=1}^{n}tr((x_i-\\theta)(x_i-\\theta)^TΣ^{-1})/2\\}$\n",
    "\n",
    "Note $tr$ indicates the trace of matrix. It is introduced becasue there is a formula like $UVU^T=tr(UVU^T)=tr(VU^TU)$, which can be used to simplified the calculation here.\n",
    "\n",
    "Therefore, we have a neat expression of likelihood for $\\Sigma$ this time:\n",
    "\n",
    "$P(X\\mid θ,Σ) ∝ \\det(\\Sigma)^{-n/2}\\exp\\{\\sum_{i=1}^{n}tr(\\Phi_{\\theta}Σ^{-1})/2\\}$.$~~~~~~~~~~~~$ (8)\n",
    "\n",
    "Where $\\Phi_{\\theta}=\\sum_{i=1}^{n}(x_i-\\theta)(x_i-\\theta)^T$.\n",
    "\n",
    "Here we go! Combined Eq(7) and Eq(8), we have:\n",
    "\n",
    "\n",
    "\n",
    "$P(\\Sigma \\mid X,\\theta) ∝ P(\\Sigma)P(X\\mid θ,X)$\n",
    "\n",
    "$∝ \\det(\\Sigma)^{-(\\mathcal{v_0}+d+1)/2}\\exp\\{-tr(\\Phi_0\\Sigma^{-1})/2\\} × \\det(\\Sigma)^{-n/2}\\exp\\{-tr(S_{\\theta}\\Sigma^{-1})/2\\}$\n",
    "\n",
    "$∝ \\det(\\Sigma)^{-(\\mathcal{v_0}+n+d+1)/2}\\exp\\{-tr((\\Phi_0+\\Phi_{\\theta})\\Sigma^{-1})/2\\}$.\n",
    "\n",
    "Let $\\Phi_n = (\\Phi_0+\\Phi_{\\theta})^{-1}$ and again we exploit the conjugate property:\n",
    "\n",
    "$P(Σ\\mid X,\\theta) = \\mathcal{W}^{-1}(\\mathcal{v_0}+n,\\Phi_n^{-1})$.$~~~~~~~~~~~~$ (9)"
   ]
  },
  {
   "cell_type": "markdown",
   "metadata": {
    "id": "mO1_U8WYIjwU"
   },
   "source": [
    "## Summary\n",
    "\n",
    "Eq(6) and Eq(9) are what we want in deriving the parameters. They present the posterior distribution for $\\theta$ and $ Σ$. Given these two posterior distributions, we can conduct sampling for approximation. Gibbs sampling is one of the efficient sampling method. Below is the code of approximating paramaters for a MVN."
   ]
  },
  {
   "cell_type": "markdown",
   "metadata": {
    "id": "8xreMVKRdOv-"
   },
   "source": [
    "# Toy example in Python"
   ]
  },
  {
   "cell_type": "code",
   "execution_count": 48,
   "metadata": {
    "id": "axJl7-EKJzSC"
   },
   "outputs": [],
   "source": [
    "import scipy.stats as st\n",
    "import numpy as np\n",
    "import matplotlib.pyplot as plt\n",
    "np.random.seed(1)"
   ]
  },
  {
   "cell_type": "code",
   "execution_count": 69,
   "metadata": {
    "id": "L5LcTyusJ2kQ"
   },
   "outputs": [],
   "source": [
    "# X ~ MVN(theta, Sigma)\n",
    "ground_truth_mean = [11,22,33]\n",
    "ground_truth_cov = np.array([[1,0,0], [0,2,0], [0,0,3]]) # If you choose different ground mean or cov, you may adjust the number of sample and the iteration for good approximation.\n",
    "def ground_truth_data(n):\n",
    "  return st.multivariate_normal(mean=ground_truth_mean, cov=ground_truth_cov).rvs(n)\n",
    "\n",
    "# Sigma ~ invW(v, \\Phi^(-1))\n",
    "def sample_sigma(df, S):\n",
    "  return st.invwishart(df=df, scale=S).rvs()\n",
    "\n",
    "# Theta ~ MVN(mu, Omega)\n",
    "def sample_theta(mu, omega):\n",
    "  return st.multivariate_normal(mean=mu, cov=omega).rvs()"
   ]
  },
  {
   "cell_type": "code",
   "execution_count": 76,
   "metadata": {
    "id": "WH2KMN_hQBLv"
   },
   "outputs": [],
   "source": [
    "#Gibbs Sampling\n",
    "itr = 6000\n",
    "theta_prior_mu = np.zeros([3])\n",
    "theta_prior_omega = np.eye(3)\n",
    "\n",
    "v_0 = 0\n",
    "\n",
    "n_samples = 600\n",
    "X = ground_truth_data(n=n_samples)\n",
    "\n",
    "mu_n = theta_prior_mu\n",
    "omega_n = theta_prior_omega\n",
    "\n",
    "theta_set = []\n",
    "sigma_set = []\n",
    "for i in range(itr):\n",
    "\n",
    "  # Sample theta\n",
    "  theta = sample_theta(mu=mu_n, omega=omega_n)\n",
    "\n",
    "  # Update posterior of sigma given theta\n",
    "  v_n = v_0 + n_samples\n",
    "\n",
    "  Phi_theta = np.eye(3)\n",
    "  for n in range(n_samples):\n",
    "    Phi_theta += np.outer((X[n]-theta), (X[n]-theta))\n",
    "\n",
    "\n",
    "  # Sample sigma\n",
    "  sigma = sample_sigma(df=v_n, S=Phi_theta)\n",
    "  # Update posterior of theta given sigma\n",
    "  A_n = np.linalg.inv(theta_prior_omega) + n_samples * np.linalg.inv(sigma)\n",
    "  b_n = np.linalg.inv(theta_prior_omega).dot(theta_prior_mu) + np.linalg.inv(sigma).dot(X.mean(axis=0)) * n_samples \n",
    "\n",
    "  mu_n = np.linalg.inv(A_n).dot(b_n)\n",
    "  omega_n = np.linalg.inv(A_n)\n",
    "\n",
    "  # record the result\n",
    "  theta_set.append(theta)\n",
    "  sigma_set.append(sigma)\n"
   ]
  },
  {
   "cell_type": "code",
   "execution_count": 77,
   "metadata": {
    "colab": {
     "base_uri": "https://localhost:8080/",
     "height": 335
    },
    "id": "ZkI-Iszx-IrG",
    "outputId": "5190c19d-08da-460e-bcbb-0abf6a0fea87"
   },
   "outputs": [
    {
     "name": "stdout",
     "output_type": "stream",
     "text": [
      "Ground Truth:11 Estimated:10.94532356735331\n",
      "Ground Truth:22 Estimated:21.926727549117214\n",
      "Ground Truth:33 Estimated:32.870453034714146\n"
     ]
    },
    {
     "data": {
      "image/png": "[encoded data removed]",
      "text/plain": [
       "<Figure size 432x288 with 1 Axes>"
      ]
     },
     "metadata": {
      "needs_background": "light"
     },
     "output_type": "display_data"
    }
   ],
   "source": [
    "for i in range(3):\n",
    "  print(\"Ground Truth:{} Estimated:{}\".format(ground_truth_mean[i], np.array(theta_set)[10:,i].mean()))\n",
    "plt.title(\"Approximated theta after each update\")\n",
    "plt.plot(np.array(theta_set)[:,0],label=\"Ground truth= \"+str(ground_truth_mean[0]))\n",
    "plt.plot(np.array(theta_set)[:,1],label=\"Ground truth=\"+str(ground_truth_mean[1]))\n",
    "plt.plot(np.array(theta_set)[:,2],label=\"Ground truth=\"+str(ground_truth_mean[2]))\n",
    "plt.legend()\n",
    "plt.show()"
   ]
  },
  {
   "cell_type": "code",
   "execution_count": 78,
   "metadata": {
    "colab": {
     "base_uri": "https://localhost:8080/"
    },
    "id": "k-Txc0rZWZMF",
    "outputId": "d31c5aba-dc5c-46ce-d001-49c2be08c313"
   },
   "outputs": [
    {
     "name": "stdout",
     "output_type": "stream",
     "text": [
      "Ground Truth:1 Estimated:1.1556483081411382\n",
      "Ground Truth:0 Estimated:0.023037175629537828\n",
      "Ground Truth:0 Estimated:0.013238720911246274\n",
      "Ground Truth:2 Estimated:2.0760194551477884\n",
      "Ground Truth:0 Estimated:0.29068301396154655\n",
      "Ground Truth:3 Estimated:3.169126047624364\n"
     ]
    }
   ],
   "source": [
    "for i in range(3):\n",
    "  j=i\n",
    "  while j<3:\n",
    "    print(\"Ground Truth:{} Estimated:{}\".format(ground_truth_cov[i,j], np.array(sigma_set)[1:,i,j].mean()))\n",
    "    # plt.plot(np.array(sigma_set)[1:,i,j],label=\"entry_{}_{}\".format(i,j))\n",
    "    j+=1\n",
    "# plt.legend()\n",
    "# plt.show()"
   ]
  }
 ],
 "metadata": {
  "colab": {
   "collapsed_sections": [],
   "name": "Gibbs_MVN.ipynb",
   "provenance": []
  },
  "kernelspec": {
   "display_name": "Python 3 (ipykernel)",
   "language": "python",
   "name": "python3"
  },
  "language_info": {
   "codemirror_mode": {
    "name": "ipython",
    "version": 3
   },
   "file_extension": ".py",
   "mimetype": "text/x-python",
   "name": "python",
   "nbconvert_exporter": "python",
   "pygments_lexer": "ipython3",
   "version": "3.8.1"
  },
  "toc": {
   "base_numbering": 1,
   "nav_menu": {},
   "number_sections": true,
   "sideBar": true,
   "skip_h1_title": false,
   "title_cell": "Table of Contents",
   "title_sidebar": "Contents",
   "toc_cell": false,
   "toc_position": {},
   "toc_section_display": true,
   "toc_window_display": false
  }
 },
 "nbformat": 4,
 "nbformat_minor": 1
}
